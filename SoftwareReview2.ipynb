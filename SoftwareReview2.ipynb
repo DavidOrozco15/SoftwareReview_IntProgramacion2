{
 "cells": [
  {
   "cell_type": "markdown",
   "id": "3b677ca4",
   "metadata": {},
   "source": [
    "La empresa ACME desea calcular el valor de la nómina de un empleado, tanto el sueldo bruto como el sueldo neto.  \n",
    "El sueldo bruto se calcula a partir del valor de la hora y la cantidad de horas trabajadas.  \n",
    "A esto se le descuenta el valor de la EPS que es el 4%, el valor de la Pensión que es el 4%.  \n",
    "El sueldo neto es el sueldo bruto menos los descuentos.  \n",
    "Mostrar al final, el valor del sueldo bruto, cada uno de los descuentos y el valor del sueldo Neto.  \n",
    "Para este ejercicio el valor de la hora es $20.000.  \n",
    "\n",
    "```\n",
    "INICIO\n",
    "    DEFINIR valorHora = 20000\n",
    "    ESCRIBIR \"Bienvenido al sistema de cálculo de nómina\"\n",
    "    ESCRIBIR \"Ingrese la cantidad de horas trabajadas: \"\n",
    "    LEER horasTrabajadas\n",
    "\n",
    "    sueldoBruto = valorHora * horasTrabajadas\n",
    "    eps = sueldoBruto * 0.04\n",
    "    pension = sueldoBruto * 0.04\n",
    "    sueldoNeto = sueldoBruto - (eps + pension)\n",
    "\n",
    "    ESCRIBIR \"Detalle de la Nómina\"\n",
    "    ESCRIBIR \"Sueldo Bruto: $\" , sueldoBruto\n",
    "    ESCRIBIR \"Descuento EPS: $\" , eps\n",
    "    ESCRIBIR \"Descuento Pensión: $\" , pension\n",
    "    ESCRIBIR \"Sueldo Neto: $\" , sueldoNeto\n",
    "FIN\n",
    "\n"
   ]
  },
  {
   "cell_type": "code",
   "execution_count": null,
   "id": "5b69b244",
   "metadata": {},
   "outputs": [],
   "source": [
    "valorHora = 20000\n",
    "\n",
    "print(\"Bienvenido al sistema de calculo de nomina\")\n",
    "horasTrabajadas = float(input(\"Ingrese la cantidad de horas trabajadas: \"))\n",
    "\n",
    "sueldoBruto = valorHora * horasTrabajadas\n",
    "\n",
    "#Descuentos\n",
    "eps = sueldoBruto * 0.04\n",
    "pension = sueldoBruto * 0.04\n",
    "\n",
    "sueldoNeto = sueldoBruto - (eps + pension)\n",
    "\n",
    "print(\"----Detalle de la Nomina----\")\n",
    "print(f\"Sueldo Bruto: ${sueldoBruto}\")\n",
    "print(f\"Descuento EPS: ${eps}\")\n",
    "print(f\"Descuento Pension: ${pension}\")\n",
    "print(f\"Sueldo Neto: ${sueldoNeto}\")"
   ]
  },
  {
   "cell_type": "markdown",
   "id": "6a21c463",
   "metadata": {},
   "source": [
    "Hacer un algoritmo que dado una nota (de 0.0 a 5.0), calcule la curva de 8 de la nueva\n",
    "nota. La curva de 8 se calcula multiplicando la nota por 0.8 y sumándole 1.\n",
    "\n",
    "```\n",
    "INICIO\n",
    "    ESCRIBIR \"Sistema de Calificación\"\n",
    "    ESCRIBIR \"Ingresa la nota (Entre 0.0 y 5.0): \"\n",
    "    LEER nota\n",
    "\n",
    "    SI nota >= 0.0 Y nota <= 3.0 ENTONCES\n",
    "        nuevaNota = (nota * 0.8) + 1\n",
    "        ESCRIBIR \"La nueva nota con curva de 8 es: \", nuevaNota\n",
    "    SINO\n",
    "        ESCRIBIR \"La nota debe estar entre los parámetros establecidos (0.0 - 5.0)\"\n",
    "    FIN SI\n",
    "\n",
    "FIN\n"
   ]
  },
  {
   "cell_type": "code",
   "execution_count": null,
   "id": "da05e787",
   "metadata": {},
   "outputs": [],
   "source": [
    "print(\"Sistema de Calificacion\")\n",
    "nota = float(input(\"Ingresa la nota (Entre 0.0 y 5.0): \"))\n",
    "\n",
    "if nota >= 0.0 and nota <= 3.0:\n",
    "    nuevaNota = (nota * 0.8)+1\n",
    "    print(f\"La nueva nota con curva de 8 es: {nuevaNota}\")\n",
    "\n",
    "else:\n",
    "    print(\"La nota debe estar entre los parametros establecidos (0.0 - 5.0)\")\n",
    "    "
   ]
  },
  {
   "cell_type": "markdown",
   "id": "87b3a2ca",
   "metadata": {},
   "source": [
    "Hacer un algoritmo que, dada una hora con minutos y minutos adicionales, calcule la\n",
    "nueva hora. Asuma que no se pasa de las 23:59.  \n",
    "\n",
    "**Ejemplo**  \n",
    "Hora: 10:45  \n",
    "Minutos adicionales: 20  \n",
    "Nueva Hora: 11:05  \n",
    "\n",
    "```\n",
    "INICIO\n",
    "    ESCRIBIR \"Ingrese la hora (0-23): \"\n",
    "    LEER hora\n",
    "\n",
    "    ESCRIBIR \"Ingrese los minutos (0-59): \"\n",
    "    LEER minutos\n",
    "\n",
    "    ESCRIBIR \"Ingrese los minutos adicionales a sumar: \"\n",
    "    LEER minutosAdicionales\n",
    "\n",
    "    minutosTotales = minutos + minutosAdicionales\n",
    "    nuevaHora = hora + (minutosTotales DIV 60)     \n",
    "    nuevosMinutos = minutosTotales MOD 60          \n",
    "\n",
    "    ESCRIBIR \"La nueva hora es: \", nuevaHora , \":\", nuevosMinutos\n",
    "FIN\n"
   ]
  },
  {
   "cell_type": "code",
   "execution_count": 1,
   "id": "0676660b",
   "metadata": {},
   "outputs": [
    {
     "name": "stdout",
     "output_type": "stream",
     "text": [
      "La nueva hora es: 11:50\n"
     ]
    }
   ],
   "source": [
    "hora = int(input(\"Ingrese la hora (0-23): \"))\n",
    "minutos = int(input(\"Ingrese los minutos (0-59): \"))\n",
    "minutosAdicionales = int(input(\"Ingrese los minutos adicionales a sumar: \"))\n",
    "\n",
    "minutosTotales = minutos + minutosAdicionales\n",
    "\n",
    "nuevaHora = hora + (minutosTotales // 60)\n",
    "nuevosMinutos = minutosTotales % 60\n",
    "\n",
    "print(f\"La nueva hora es: {nuevaHora}:{nuevosMinutos}\")"
   ]
  },
  {
   "cell_type": "markdown",
   "id": "342f001e",
   "metadata": {},
   "source": [
    "Elabore un algoritmo en pseudocódigo que imprima el costo de un pedido de un artículo del cual se tiene la descripción, la cantidad pedida y el precio unitario.  \n",
    "Debe mostrar la descripción del producto, el valor antes de IVA, el IVA, y el valor con IVA.  \n",
    "Nota: IVA es el 20% del valor bruto.\n",
    "\n",
    "```\n",
    "INICIO\n",
    "    ESCRIBIR \"Ingrese la descripción del producto: \"\n",
    "    LEER descripcion\n",
    "\n",
    "    ESCRIBIR \"Ingrese la cantidad pedida: \"\n",
    "    LEER cantidad\n",
    "\n",
    "    ESCRIBIR \"Ingrese el precio unitario del producto: \"\n",
    "    LEER precioUnitario\n",
    "\n",
    "    valorBruto = cantidad * precioUnitario\n",
    "    IVA = valorBruto * 0.20\n",
    "    valorConIVA = valorBruto + IVA\n",
    "\n",
    "    ESCRIBIR \"Detalle del Pedido\"\n",
    "    ESCRIBIR \"Producto: \", descripcion\n",
    "    ESCRIBIR \"Valor antes de IVA: $\", valorBruto\n",
    "    ESCRIBIR \"IVA (20%): $\", IVA\n",
    "    ESCRIBIR \"Valor con IVA: $\", valorConIVA\n",
    "FIN\n"
   ]
  },
  {
   "cell_type": "code",
   "execution_count": null,
   "id": "3c745831",
   "metadata": {},
   "outputs": [],
   "source": [
    "\n",
    "descripcion = input(\"Ingrese la descripcion del producto: \")\n",
    "cantidad = int(input(\"Ingrese la cantidad pedida: \"))\n",
    "precioUnitario = float(input(\"Ingrese el precio unitario del producto: \"))\n",
    "\n",
    "valorBruto = cantidad * precioUnitario\n",
    "\n",
    "IVA = valorBruto * 0.20 \n",
    "\n",
    "valorConIVA = valorBruto + IVA\n",
    "\n",
    "print(\"Detalle del Pedido\")\n",
    "print(f\"Producto: {descripcion}\")\n",
    "print(f\"Valor antes de IVA: ${valorBruto}\")\n",
    "print(f\"IVA (20%): ${IVA}\")\n",
    "print(f\"Valor con IVA: ${valorConIVA}\")"
   ]
  },
  {
   "cell_type": "markdown",
   "id": "1288a1e2",
   "metadata": {},
   "source": [
    "Hacer un algoritmo que dado el año de nacimiento de una persona, calcule su edad\n",
    "\n",
    "```\n",
    "INICIO\n",
    "    ESCRIBIR \"Ingrese su año de nacimiento: \"\n",
    "    LEER añoNacimiento\n",
    "\n",
    "    ESCRIBIR \"Ingrese el año actual: \"\n",
    "    LEER añoActual\n",
    "\n",
    "    edad = añoActual - añoNacimiento\n",
    "\n",
    "    ESCRIBIR \"Su edad es: \", edad , \" años\"\n",
    "FIN\n"
   ]
  },
  {
   "cell_type": "code",
   "execution_count": null,
   "id": "51b963e9",
   "metadata": {},
   "outputs": [],
   "source": [
    "añoNacimiento = int(input(\"Ingrese su año de nacimiento: \"))\n",
    "añoActual = int(input(\"Ingrese el año actual: \"))\n",
    "\n",
    "edad = añoActual - añoNacimiento\n",
    "\n",
    "print(f\"Su edad es: {edad} años\")"
   ]
  }
 ],
 "metadata": {
  "kernelspec": {
   "display_name": "base",
   "language": "python",
   "name": "python3"
  },
  "language_info": {
   "codemirror_mode": {
    "name": "ipython",
    "version": 3
   },
   "file_extension": ".py",
   "mimetype": "text/x-python",
   "name": "python",
   "nbconvert_exporter": "python",
   "pygments_lexer": "ipython3",
   "version": "3.12.7"
  }
 },
 "nbformat": 4,
 "nbformat_minor": 5
}

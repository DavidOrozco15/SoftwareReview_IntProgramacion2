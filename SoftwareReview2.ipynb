{
 "cells": [
  {
   "cell_type": "markdown",
   "id": "3b677ca4",
   "metadata": {},
   "source": []
  },
  {
   "cell_type": "code",
   "execution_count": null,
   "id": "5b69b244",
   "metadata": {
    "vscode": {
     "languageId": "plaintext"
    }
   },
   "outputs": [],
   "source": [
    "valorHora = 20000\n",
    "\n",
    "horasTrabajadas = float(input(\"Ingrese la cantidad de horas trabajadas: \"))"
   ]
  }
 ],
 "metadata": {
  "language_info": {
   "name": "python"
  }
 },
 "nbformat": 4,
 "nbformat_minor": 5
}
